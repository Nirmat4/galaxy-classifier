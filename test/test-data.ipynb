{
 "cells": [
  {
   "cell_type": "code",
   "execution_count": 1,
   "metadata": {},
   "outputs": [
    {
     "name": "stderr",
     "output_type": "stream",
     "text": [
      "2025-01-15 13:20:01.118995: E external/local_xla/xla/stream_executor/cuda/cuda_fft.cc:477] Unable to register cuFFT factory: Attempting to register factory for plugin cuFFT when one has already been registered\n",
      "WARNING: All log messages before absl::InitializeLog() is called are written to STDERR\n",
      "E0000 00:00:1736968801.266028    2922 cuda_dnn.cc:8310] Unable to register cuDNN factory: Attempting to register factory for plugin cuDNN when one has already been registered\n",
      "E0000 00:00:1736968801.307707    2922 cuda_blas.cc:1418] Unable to register cuBLAS factory: Attempting to register factory for plugin cuBLAS when one has already been registered\n",
      "2025-01-15 13:20:01.639663: I tensorflow/core/platform/cpu_feature_guard.cc:210] This TensorFlow binary is optimized to use available CPU instructions in performance-critical operations.\n",
      "To enable the following instructions: AVX2 FMA, in other operations, rebuild TensorFlow with the appropriate compiler flags.\n"
     ]
    }
   ],
   "source": [
    "######################################################################################################################################################\n",
    "# Importación de librerías, modelos y rutas                                                                                                          #\n",
    "######################################################################################################################################################\n",
    "\n",
    "import pandas as pd\n",
    "import numpy as np\n",
    "from tensorflow.keras.models import load_model\n",
    "from sklearn.model_selection import train_test_split\n",
    "from sklearn.preprocessing import LabelEncoder\n",
    "from tensorflow.keras.utils import to_categorical\n",
    "from tensorflow.keras.models import Sequential\n",
    "from tensorflow.keras.layers import LSTM, Dense, Dropout\n",
    "from tensorflow.keras.mixed_precision import set_global_policy\n",
    "\n",
    "# Configuración de precisión mixta\n",
    "set_global_policy('mixed_float16')\n",
    "\n",
    "######################################################################################################################################################\n",
    "# Configuración de rutas y carga de datos                                                                                                           #\n",
    "######################################################################################################################################################\n",
    "\n",
    "# Ruta de imágenes\n",
    "image_path = \"./data-set/\"\n",
    "# Ruta de los CSV\n",
    "information_path = \"./information/\""
   ]
  },
  {
   "cell_type": "code",
   "execution_count": 2,
   "metadata": {},
   "outputs": [],
   "source": [
    "# Cargar el CSV\n",
    "dataset = pd.read_csv(\"dataset-vectors.csv\")\n",
    "\n",
    "# Convertir la columna `image_vector` de texto a lista de floats\n",
    "dataset['image_vector'] = dataset['image_vector'].apply(lambda x: np.array(eval(x), dtype=np.float32))\n",
    "\n",
    "# Codificar las clases\n",
    "label_encoder = LabelEncoder()\n",
    "dataset['galaxy_class_encoded'] = label_encoder.fit_transform(dataset['galaxy_class'])\n",
    "num_classes = len(label_encoder.classes_)\n",
    "\n",
    "# Preparar los datos para entrenamiento\n",
    "X = np.stack(dataset['image_vector'].values)\n",
    "y = to_categorical(dataset['galaxy_class_encoded'], num_classes)\n",
    "\n",
    "# Dividir en conjuntos de entrenamiento y validación\n",
    "X_train, X_val, y_train, y_val = train_test_split(X, y, test_size=0.2, random_state=42)"
   ]
  },
  {
   "cell_type": "code",
   "execution_count": 3,
   "metadata": {},
   "outputs": [
    {
     "name": "stderr",
     "output_type": "stream",
     "text": [
      "W0000 00:00:1736968917.371980    2922 gpu_device.cc:2344] Cannot dlopen some GPU libraries. Please make sure the missing libraries mentioned above are installed properly if you would like to use GPU. Follow the guide at https://www.tensorflow.org/install/gpu for how to download and setup the required libraries for your platform.\n",
      "Skipping registering GPU devices...\n",
      "/home/josafat/Documentos/galaxy-classifier/galaxy-classifier-venv/lib/python3.12/site-packages/keras/src/layers/rnn/rnn.py:200: UserWarning: Do not pass an `input_shape`/`input_dim` argument to a layer. When using Sequential models, prefer using an `Input(shape)` object as the first layer in the model instead.\n",
      "  super().__init__(**kwargs)\n"
     ]
    },
    {
     "name": "stdout",
     "output_type": "stream",
     "text": [
      "Epoch 1/10\n",
      "\u001b[1m1571/1571\u001b[0m \u001b[32m━━━━━━━━━━━━━━━━━━━━\u001b[0m\u001b[37m\u001b[0m \u001b[1m104s\u001b[0m 65ms/step - accuracy: 0.3151 - loss: 1.5482 - val_accuracy: 0.3069 - val_loss: 1.4995\n",
      "Epoch 2/10\n",
      "\u001b[1m1571/1571\u001b[0m \u001b[32m━━━━━━━━━━━━━━━━━━━━\u001b[0m\u001b[37m\u001b[0m \u001b[1m100s\u001b[0m 64ms/step - accuracy: 0.3192 - loss: 1.5030 - val_accuracy: 0.3276 - val_loss: 1.5001\n",
      "Epoch 3/10\n",
      "\u001b[1m1571/1571\u001b[0m \u001b[32m━━━━━━━━━━━━━━━━━━━━\u001b[0m\u001b[37m\u001b[0m \u001b[1m99s\u001b[0m 63ms/step - accuracy: 0.3278 - loss: 1.5025 - val_accuracy: 0.3069 - val_loss: 1.5012\n",
      "Epoch 4/10\n",
      "\u001b[1m1571/1571\u001b[0m \u001b[32m━━━━━━━━━━━━━━━━━━━━\u001b[0m\u001b[37m\u001b[0m \u001b[1m98s\u001b[0m 62ms/step - accuracy: 0.3162 - loss: 1.5083 - val_accuracy: 0.3276 - val_loss: 1.5006\n",
      "Epoch 5/10\n",
      "\u001b[1m1571/1571\u001b[0m \u001b[32m━━━━━━━━━━━━━━━━━━━━\u001b[0m\u001b[37m\u001b[0m \u001b[1m101s\u001b[0m 64ms/step - accuracy: 0.3163 - loss: 1.4979 - val_accuracy: 0.3069 - val_loss: 1.5007\n",
      "Epoch 6/10\n",
      "\u001b[1m1571/1571\u001b[0m \u001b[32m━━━━━━━━━━━━━━━━━━━━\u001b[0m\u001b[37m\u001b[0m \u001b[1m100s\u001b[0m 64ms/step - accuracy: 0.3226 - loss: 1.4990 - val_accuracy: 0.3276 - val_loss: 1.4999\n",
      "Epoch 7/10\n",
      "\u001b[1m1571/1571\u001b[0m \u001b[32m━━━━━━━━━━━━━━━━━━━━\u001b[0m\u001b[37m\u001b[0m \u001b[1m101s\u001b[0m 64ms/step - accuracy: 0.3106 - loss: 1.5008 - val_accuracy: 0.3069 - val_loss: 1.4999\n",
      "Epoch 8/10\n",
      "\u001b[1m1571/1571\u001b[0m \u001b[32m━━━━━━━━━━━━━━━━━━━━\u001b[0m\u001b[37m\u001b[0m \u001b[1m100s\u001b[0m 64ms/step - accuracy: 0.3168 - loss: 1.5050 - val_accuracy: 0.3276 - val_loss: 1.4999\n",
      "Epoch 9/10\n",
      "\u001b[1m1571/1571\u001b[0m \u001b[32m━━━━━━━━━━━━━━━━━━━━\u001b[0m\u001b[37m\u001b[0m \u001b[1m101s\u001b[0m 64ms/step - accuracy: 0.3191 - loss: 1.5060 - val_accuracy: 0.3276 - val_loss: 1.4993\n",
      "Epoch 10/10\n",
      "\u001b[1m1571/1571\u001b[0m \u001b[32m━━━━━━━━━━━━━━━━━━━━\u001b[0m\u001b[37m\u001b[0m \u001b[1m102s\u001b[0m 65ms/step - accuracy: 0.3166 - loss: 1.5007 - val_accuracy: 0.3069 - val_loss: 1.5014\n"
     ]
    }
   ],
   "source": [
    "######################################################################################################################################################\n",
    "# Preprocesamiento de datos para la RNN                                                                                                             #\n",
    "######################################################################################################################################################\n",
    "\n",
    "# Redimensionar y normalizar los datos\n",
    "# Para una RNN, necesitamos que cada vector sea tratado como una secuencia\n",
    "X_train_rnn = X_train.astype('float16') / 255.0\n",
    "X_val_rnn = X_val.astype('float16') / 255.0\n",
    "\n",
    "# Ajustar las dimensiones para que sean compatibles con la RNN (timesteps, features)\n",
    "X_train_rnn = X_train_rnn.reshape(-1, 64, 64)\n",
    "X_val_rnn = X_val_rnn.reshape(-1, 64, 64)\n",
    "\n",
    "######################################################################################################################################################\n",
    "# Creación y configuración de la RNN                                                                                                                #\n",
    "######################################################################################################################################################\n",
    "\n",
    "# Crear el modelo RNN\n",
    "model = Sequential([\n",
    "    LSTM(128, return_sequences=True, activation='relu', input_shape=(64, 64)),\n",
    "    LSTM(128, activation='relu'),\n",
    "    Dropout(0.5),\n",
    "    Dense(64, activation='relu'),\n",
    "    Dropout(0.5),\n",
    "    Dense(num_classes, activation='softmax', dtype='float32')\n",
    "])\n",
    "# Compilar el modelo con optimizador de escalado de pérdidas\n",
    "model.compile(optimizer='adam', loss='categorical_crossentropy', metrics=['accuracy'])\n",
    "\n",
    "######################################################################################################################################################\n",
    "# Entrenamiento del modelo                                                                                                                          #\n",
    "######################################################################################################################################################\n",
    "\n",
    "history = model.fit(\n",
    "    X_train_rnn, y_train,\n",
    "    epochs=10,\n",
    "    validation_data=(X_val_rnn, y_val),\n",
    "    batch_size=8\n",
    ")"
   ]
  },
  {
   "cell_type": "code",
   "execution_count": 6,
   "metadata": {},
   "outputs": [
    {
     "name": "stderr",
     "output_type": "stream",
     "text": [
      "WARNING:absl:You are saving your model as an HDF5 file via `model.save()` or `keras.saving.save_model(model)`. This file format is considered legacy. We recommend using instead the native Keras format, e.g. `model.save('my_model.keras')` or `keras.saving.save_model(model, 'my_model.keras')`. \n"
     ]
    }
   ],
   "source": [
    "######################################################################################################################################################\n",
    "# Guardar el modelo para futuras predicciones                                                                                                       #\n",
    "######################################################################################################################################################\n",
    "\n",
    "# Guardar el modelo entrenado\n",
    "model.save(\"galaxy_classifier_rnn.h5\")\n",
    "\n",
    "# Guardar las etiquetas codificadas\n",
    "with open(\"label_encoder_classes.npy\", \"wb\") as f:\n",
    "    np.save(f, label_encoder.classes_)"
   ]
  },
  {
   "cell_type": "code",
   "execution_count": 10,
   "metadata": {},
   "outputs": [
    {
     "name": "stderr",
     "output_type": "stream",
     "text": [
      "WARNING:absl:Compiled the loaded model, but the compiled metrics have yet to be built. `model.compile_metrics` will be empty until you train or evaluate the model.\n"
     ]
    },
    {
     "name": "stdout",
     "output_type": "stream",
     "text": [
      "\u001b[1m1/1\u001b[0m \u001b[32m━━━━━━━━━━━━━━━━━━━━\u001b[0m\u001b[37m\u001b[0m \u001b[1m0s\u001b[0m 197ms/step\n",
      "Probabilidades para cada clase:\n",
      "Ec: 0.3683\n",
      "Er: 0.3253\n",
      "SBb2m: 0.1990\n",
      "SBc3m: 0.0356\n",
      "Sb+t: 0.0174\n",
      "Sc+t: 0.0543\n",
      "\n",
      "Clase predicha: Ec (índice: 0)\n"
     ]
    }
   ],
   "source": [
    "# Cargar el modelo entrenado\n",
    "model = load_model(\"galaxy_classifier_rnn.h5\")\n",
    "\n",
    "# Cargar las etiquetas codificadas\n",
    "with open(\"label_encoder_classes.npy\", \"rb\") as f:\n",
    "    classes = np.load(f, allow_pickle=True)\n",
    "\n",
    "import cv2\n",
    "\n",
    "# Cargar y preprocesar la nueva imagen\n",
    "image_path = \"./data-set/191718.jpg\"\n",
    "image = cv2.imread(image_path, cv2.IMREAD_GRAYSCALE)\n",
    "image = cv2.resize(image, (64, 64))\n",
    "image = image.astype('float16') / 255.0\n",
    "image = image.reshape(1, 64, 64)\n",
    "\n",
    "# Realizar la predicción\n",
    "predictions = model.predict(image)\n",
    "\n",
    "# Mostrar todas las probabilidades para cada clase\n",
    "print(\"Probabilidades para cada clase:\")\n",
    "for i, class_prob in enumerate(predictions[0]):\n",
    "    print(f\"{classes[i]}: {class_prob:.4f}\")\n",
    "\n",
    "# Obtener la clase con la mayor probabilidad\n",
    "predicted_class_index = np.argmax(predictions)\n",
    "predicted_class = classes[predicted_class_index]\n",
    "\n",
    "print(f\"\\nClase predicha: {predicted_class} (índice: {predicted_class_index})\")"
   ]
  },
  {
   "cell_type": "code",
   "execution_count": 14,
   "metadata": {},
   "outputs": [
    {
     "name": "stdout",
     "output_type": "stream",
     "text": [
      "       image_name                                       image_vector  \\\n",
      "15003      191718  [0.011764705882352941, 0.011764705882352941, 0...   \n",
      "\n",
      "      galaxy_class  \n",
      "15003           Ec  \n"
     ]
    }
   ],
   "source": [
    "# Cargar el CSV\n",
    "dataset = pd.read_csv(\"dataset-vectors.csv\")\n",
    "imagen=dataset[dataset[\"image_name\"]==191718]\n",
    "imagen[\"image_vector\"].iloc[0]\n",
    "print(imagen)"
   ]
  }
 ],
 "metadata": {
  "kernelspec": {
   "display_name": "galaxy-classifier-venv",
   "language": "python",
   "name": "python3"
  },
  "language_info": {
   "codemirror_mode": {
    "name": "ipython",
    "version": 3
   },
   "file_extension": ".py",
   "mimetype": "text/x-python",
   "name": "python",
   "nbconvert_exporter": "python",
   "pygments_lexer": "ipython3",
   "version": "3.12.8"
  }
 },
 "nbformat": 4,
 "nbformat_minor": 2
}
